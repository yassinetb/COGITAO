{
 "cells": [
  {
   "cell_type": "code",
   "execution_count": 1,
   "id": "2356b32e",
   "metadata": {},
   "outputs": [],
   "source": [
    "%load_ext autoreload\n",
    "%autoreload 2\n",
    "\n",
    "import json\n",
    "from arcworld.general_utils import plot_grid, plot_task"
   ]
  },
  {
   "cell_type": "markdown",
   "id": "f5a05c77",
   "metadata": {},
   "source": [
    "# Compositionality"
   ]
  },
  {
   "cell_type": "code",
   "execution_count": null,
   "id": "a07a1ee4",
   "metadata": {},
   "outputs": [
    {
     "ename": "FileNotFoundError",
     "evalue": "[Errno 2] No such file or directory: 'before_arc_datasets/generalization/exp_setting_5/experiment_5/val_ood.json'",
     "output_type": "error",
     "traceback": [
      "\u001b[0;31m---------------------------------------------------------------------------\u001b[0m",
      "\u001b[0;31mFileNotFoundError\u001b[0m                         Traceback (most recent call last)",
      "Cell \u001b[0;32mIn[14], line 4\u001b[0m\n\u001b[1;32m      1\u001b[0m \u001b[38;5;28;01mwith\u001b[39;00m \u001b[38;5;28mopen\u001b[39m(\u001b[38;5;124m'\u001b[39m\u001b[38;5;124mbefore_arc_datasets/compositionality/exp_setting_3/experiment_1/val.json\u001b[39m\u001b[38;5;124m'\u001b[39m, \u001b[38;5;124m'\u001b[39m\u001b[38;5;124mr\u001b[39m\u001b[38;5;124m'\u001b[39m) \u001b[38;5;28;01mas\u001b[39;00m f:\n\u001b[1;32m      2\u001b[0m     train \u001b[38;5;241m=\u001b[39m json\u001b[38;5;241m.\u001b[39mload(f)\n\u001b[0;32m----> 4\u001b[0m \u001b[38;5;28;01mwith\u001b[39;00m \u001b[38;5;28;43mopen\u001b[39;49m\u001b[43m(\u001b[49m\u001b[38;5;124;43m'\u001b[39;49m\u001b[38;5;124;43mbefore_arc_datasets/generalization/exp_setting_5/experiment_5/val_ood.json\u001b[39;49m\u001b[38;5;124;43m'\u001b[39;49m\u001b[43m,\u001b[49m\u001b[43m \u001b[49m\u001b[38;5;124;43m'\u001b[39;49m\u001b[38;5;124;43mr\u001b[39;49m\u001b[38;5;124;43m'\u001b[39;49m\u001b[43m)\u001b[49m \u001b[38;5;28;01mas\u001b[39;00m f:\n\u001b[1;32m      5\u001b[0m     val \u001b[38;5;241m=\u001b[39m json\u001b[38;5;241m.\u001b[39mload(f)\n\u001b[1;32m      7\u001b[0m \u001b[38;5;28;01mwith\u001b[39;00m \u001b[38;5;28mopen\u001b[39m(\u001b[38;5;124m'\u001b[39m\u001b[38;5;124mbefore_arc_datasets/generalization/exp_setting_5/experiment_5/test.json\u001b[39m\u001b[38;5;124m'\u001b[39m, \u001b[38;5;124m'\u001b[39m\u001b[38;5;124mr\u001b[39m\u001b[38;5;124m'\u001b[39m) \u001b[38;5;28;01mas\u001b[39;00m f:\n",
      "File \u001b[0;32m/opt/anaconda3/envs/daily/lib/python3.11/site-packages/IPython/core/interactiveshell.py:324\u001b[0m, in \u001b[0;36m_modified_open\u001b[0;34m(file, *args, **kwargs)\u001b[0m\n\u001b[1;32m    317\u001b[0m \u001b[38;5;28;01mif\u001b[39;00m file \u001b[38;5;129;01min\u001b[39;00m {\u001b[38;5;241m0\u001b[39m, \u001b[38;5;241m1\u001b[39m, \u001b[38;5;241m2\u001b[39m}:\n\u001b[1;32m    318\u001b[0m     \u001b[38;5;28;01mraise\u001b[39;00m \u001b[38;5;167;01mValueError\u001b[39;00m(\n\u001b[1;32m    319\u001b[0m         \u001b[38;5;124mf\u001b[39m\u001b[38;5;124m\"\u001b[39m\u001b[38;5;124mIPython won\u001b[39m\u001b[38;5;124m'\u001b[39m\u001b[38;5;124mt let you open fd=\u001b[39m\u001b[38;5;132;01m{\u001b[39;00mfile\u001b[38;5;132;01m}\u001b[39;00m\u001b[38;5;124m by default \u001b[39m\u001b[38;5;124m\"\u001b[39m\n\u001b[1;32m    320\u001b[0m         \u001b[38;5;124m\"\u001b[39m\u001b[38;5;124mas it is likely to crash IPython. If you know what you are doing, \u001b[39m\u001b[38;5;124m\"\u001b[39m\n\u001b[1;32m    321\u001b[0m         \u001b[38;5;124m\"\u001b[39m\u001b[38;5;124myou can use builtins\u001b[39m\u001b[38;5;124m'\u001b[39m\u001b[38;5;124m open.\u001b[39m\u001b[38;5;124m\"\u001b[39m\n\u001b[1;32m    322\u001b[0m     )\n\u001b[0;32m--> 324\u001b[0m \u001b[38;5;28;01mreturn\u001b[39;00m \u001b[43mio_open\u001b[49m\u001b[43m(\u001b[49m\u001b[43mfile\u001b[49m\u001b[43m,\u001b[49m\u001b[43m \u001b[49m\u001b[38;5;241;43m*\u001b[39;49m\u001b[43margs\u001b[49m\u001b[43m,\u001b[49m\u001b[43m \u001b[49m\u001b[38;5;241;43m*\u001b[39;49m\u001b[38;5;241;43m*\u001b[39;49m\u001b[43mkwargs\u001b[49m\u001b[43m)\u001b[49m\n",
      "\u001b[0;31mFileNotFoundError\u001b[0m: [Errno 2] No such file or directory: 'before_arc_datasets/generalization/exp_setting_5/experiment_5/val_ood.json'"
     ]
    }
   ],
   "source": [
    "with open('before_arc_datasets/compositionality/exp_setting_3/experiment_1/val.json', 'r') as f:\n",
    "    train = json.load(f)\n",
    "\n",
    "with open('before_arc_datasets/generalization/exp_setting_5/experiment_5/val_ood.json', 'r') as f:\n",
    "    val = json.load(f)\n",
    "    \n",
    "with open('before_arc_datasets/generalization/exp_setting_5/experiment_5/test.json', 'r') as f:\n",
    "    test = json.load(f)\n",
    "    \n",
    "# print lengths\n",
    "print(f\"train: {len(train)}\")\n",
    "print(f\"val: {len(val)}\")\n",
    "print(f\"test: {len(test)}\")\n",
    "\n",
    "    \n",
    "import pandas as pd\n",
    "\n",
    "train = pd.read_parquet('before-arc-parquet/generalization/exp_setting_4/experiment_1/train.parquet', engine='pyarrow')\n",
    "test = pd.read_parquet('before-arc-parquet/generalization/exp_setting_4/experiment_1/test.parquet', engine='pyarrow')\n",
    "test_ood = pd.read_parquet('before-arc-parquet/generalization/exp_setting_4/experiment_1/test_ood.parquet', engine='pyarrow')\n",
    " \n",
    "\n",
    "# with open('before-arc-parquet/compositionality/exp_setting_4/experiment_1/train.parquet', 'r') as f:\n",
    "#     train_parquet = json.load(f)"
   ]
  },
  {
   "cell_type": "code",
   "execution_count": 36,
   "id": "75204f4f",
   "metadata": {},
   "outputs": [
    {
     "ename": "AttributeError",
     "evalue": "'list' object has no attribute 'to_dict'",
     "output_type": "error",
     "traceback": [
      "\u001b[0;31m---------------------------------------------------------------------------\u001b[0m",
      "\u001b[0;31mAttributeError\u001b[0m                            Traceback (most recent call last)",
      "Cell \u001b[0;32mIn[36], line 3\u001b[0m\n\u001b[1;32m      1\u001b[0m \u001b[38;5;66;03m# print(test[80]['transformation_suite'])\u001b[39;00m\n\u001b[1;32m      2\u001b[0m \u001b[38;5;66;03m# convert df to dict \u001b[39;00m\n\u001b[0;32m----> 3\u001b[0m train \u001b[38;5;241m=\u001b[39m \u001b[43mtrain\u001b[49m\u001b[38;5;241;43m.\u001b[39;49m\u001b[43mto_dict\u001b[49m(orient\u001b[38;5;241m=\u001b[39m\u001b[38;5;124m'\u001b[39m\u001b[38;5;124mrecords\u001b[39m\u001b[38;5;124m'\u001b[39m)\n\u001b[1;32m      4\u001b[0m test \u001b[38;5;241m=\u001b[39m test\u001b[38;5;241m.\u001b[39mto_dict(orient\u001b[38;5;241m=\u001b[39m\u001b[38;5;124m'\u001b[39m\u001b[38;5;124mrecords\u001b[39m\u001b[38;5;124m'\u001b[39m)\n\u001b[1;32m      5\u001b[0m test_ood \u001b[38;5;241m=\u001b[39m test_ood\u001b[38;5;241m.\u001b[39mto_dict(orient\u001b[38;5;241m=\u001b[39m\u001b[38;5;124m'\u001b[39m\u001b[38;5;124mrecords\u001b[39m\u001b[38;5;124m'\u001b[39m)\n",
      "\u001b[0;31mAttributeError\u001b[0m: 'list' object has no attribute 'to_dict'"
     ]
    }
   ],
   "source": [
    "# print(test[80]['transformation_suite'])\n",
    "# convert df to dict \n",
    "train = train.to_dict(orient='records')\n",
    "test = test.to_dict(orient='records')\n",
    "test_ood = test_ood.to_dict(orient='records')"
   ]
  },
  {
   "cell_type": "code",
   "execution_count": 11,
   "id": "13ea4df9",
   "metadata": {},
   "outputs": [],
   "source": [
    "train_transform_history = {}\n",
    "for i in range(len(train)):\n",
    "    transform = str(train[i]['transformation_suite'])\n",
    "    if transform not in train_transform_history.keys():\n",
    "        train_transform_history[transform] = 1\n",
    "    else:\n",
    "        train_transform_history[transform] += 1"
   ]
  },
  {
   "cell_type": "code",
   "execution_count": 12,
   "id": "dd6556ae",
   "metadata": {},
   "outputs": [],
   "source": [
    "test_transform_history = {} \n",
    "for i in range(len(test)):\n",
    "    transform = str(test[i]['transformation_suite'])\n",
    "    if transform not in test_transform_history.keys():\n",
    "        test_transform_history[transform] = 1\n",
    "    else:\n",
    "        test_transform_history[transform] += 1\n",
    "        \n",
    "\n",
    "val_transform_history = {} \n",
    "for i in range(len(val)):\n",
    "    transform = str(val[i]['transformation_suite'])\n",
    "    if transform not in val_transform_history.keys():\n",
    "        val_transform_history[transform] = 1\n",
    "    else:\n",
    "        val_transform_history[transform] += 1"
   ]
  },
  {
   "cell_type": "code",
   "execution_count": 13,
   "id": "fbe0fe39",
   "metadata": {},
   "outputs": [
    {
     "name": "stdout",
     "output_type": "stream",
     "text": [
      "\n",
      " Train Transformations History \n",
      "\n",
      "['extend_contours_same_color'] 20\n",
      "\n",
      " Test Transformations History \n",
      "\n",
      "['extend_contours_same_color'] 20\n",
      "\n",
      " Test OOD Transformations History \n",
      "\n",
      "['extend_contours_same_color'] 20\n"
     ]
    }
   ],
   "source": [
    "print(\"\\n Train Transformations History \\n\")\n",
    "\n",
    "for key in train_transform_history.keys():\n",
    "    print(key, train_transform_history[key])\n",
    "\n",
    "print(\"\\n Test Transformations History \\n\")\n",
    "\n",
    "for key in test_transform_history.keys():\n",
    "    print(key, test_transform_history[key])\n",
    "    \n",
    "print(\"\\n Test OOD Transformations History \\n\")\n",
    "\n",
    "for key in val_transform_history.keys():\n",
    "    print(key, val_transform_history[key])"
   ]
  },
  {
   "cell_type": "code",
   "execution_count": 14,
   "id": "4d243139",
   "metadata": {},
   "outputs": [
    {
     "name": "stdout",
     "output_type": "stream",
     "text": [
      "['extend_contours_same_color']\n"
     ]
    },
    {
     "data": {
      "image/png": "[encoded data removed]",
      "text/plain": [
       "<Figure size 600x600 with 1 Axes>"
      ]
     },
     "metadata": {},
     "output_type": "display_data"
    }
   ],
   "source": [
    "import numpy as np\n",
    "plot_grid(np.array(list(val[15]['input'])), size = (2,2))\n",
    "print(val[15][\"transformation_suite\"])"
   ]
  },
  {
   "cell_type": "code",
   "execution_count": 15,
   "id": "67ccdb4b",
   "metadata": {},
   "outputs": [
    {
     "data": {
      "image/png": "[encoded data removed]",
      "text/plain": [
       "<Figure size 600x600 with 1 Axes>"
      ]
     },
     "metadata": {},
     "output_type": "display_data"
    }
   ],
   "source": [
    "plot_grid(np.array(list(val[15]['output'])), size = (2,2))"
   ]
  },
  {
   "cell_type": "markdown",
   "id": "217074ae",
   "metadata": {},
   "source": [
    "# Generalization"
   ]
  },
  {
   "cell_type": "code",
   "execution_count": 50,
   "id": "2c6cc0a8",
   "metadata": {},
   "outputs": [],
   "source": [
    "with open('before_arc_datasets/generalization/exp_setting_1/experiment_2/train.json', 'r') as f:\n",
    "    train_1_2 = json.load(f)\n",
    "\n",
    "with open('before_arc_datasets/generalization/exp_setting_1/experiment_2/train_val.json', 'r') as f:\n",
    "    train_val_1_2 = json.load(f)\n",
    "    \n",
    "with open('before_arc_datasets/generalization/exp_setting_3/experiment_4/test.json', 'r') as f:\n",
    "    test_3_4 = json.load(f)\n",
    "\n",
    "with open('before_arc_datasets/generalization/exp_setting_5/experiment_2/test_val.json', 'r') as f:\n",
    "    test_val_5_2 = json.load(f)"
   ]
  },
  {
   "cell_type": "code",
   "execution_count": 53,
   "id": "0753a0dd",
   "metadata": {},
   "outputs": [
    {
     "data": {
      "image/png": "[encoded data removed]",
      "text/plain": [
       "<Figure size 200x200 with 1 Axes>"
      ]
     },
     "metadata": {},
     "output_type": "display_data"
    },
    {
     "data": {
      "image/png": "[encoded data removed]",
      "text/plain": [
       "<Figure size 200x200 with 1 Axes>"
      ]
     },
     "metadata": {},
     "output_type": "display_data"
    }
   ],
   "source": [
    "to_check = [train_1_2, train_val_1_2, test_3_4, test_val_5_2]\n",
    "plot_grid(test_val_5_2[2]['input'], size = (2,2))\n",
    "plot_grid(test_val_5_2[2]['output'], size = (2,2))"
   ]
  },
  {
   "cell_type": "code",
   "execution_count": 2,
   "id": "90039f9d",
   "metadata": {},
   "outputs": [],
   "source": [
    "import time\n",
    "import sys \n",
    "from arcworld.general_utils import plot_task, plot_grid\n",
    "from study_configs.generalization import generalization_configs\n",
    "from generator import generator\n",
    "import numpy as np\n",
    "from arcworld.general_utils import find_possible_positions, randomly_add_shape_to_world"
   ]
  },
  {
   "cell_type": "code",
   "execution_count": 12,
   "id": "958524d2",
   "metadata": {},
   "outputs": [
    {
     "data": {
      "image/png": "[encoded data removed]",
      "text/plain": [
       "<Figure size 100x100 with 1 Axes>"
      ]
     },
     "metadata": {},
     "output_type": "display_data"
    },
    {
     "data": {
      "image/png": "[encoded data removed]",
      "text/plain": [
       "<Figure size 100x100 with 1 Axes>"
      ]
     },
     "metadata": {},
     "output_type": "display_data"
    },
    {
     "data": {
      "image/png": "[encoded data removed]",
      "text/plain": [
       "<Figure size 100x100 with 1 Axes>"
      ]
     },
     "metadata": {},
     "output_type": "display_data"
    }
   ],
   "source": [
    "config = generalization_configs[-1]\n",
    "gen = generator(config)\n",
    "shapes = gen.randomly_sample_shapes([20000, 31, 52, 67], 3)\n",
    "plot_grid(shapes[0].as_shape_only_grid, size = (1,1))\n",
    "plot_grid(shapes[1].as_shape_only_grid, size = (1,1)) \n",
    "plot_grid(shapes[2].as_shape_only_grid, size = (1,1))"
   ]
  },
  {
   "cell_type": "code",
   "execution_count": 40,
   "id": "f421f7c8",
   "metadata": {},
   "outputs": [
    {
     "data": {
      "image/png": "[encoded data removed]",
      "text/plain": [
       "<Figure size 200x200 with 1 Axes>"
      ]
     },
     "metadata": {},
     "output_type": "display_data"
    },
    {
     "data": {
      "image/png": "[encoded data removed]",
      "text/plain": [
       "<Figure size 200x200 with 1 Axes>"
      ]
     },
     "metadata": {},
     "output_type": "display_data"
    }
   ],
   "source": [
    "grid = np.zeros((10,10))\n",
    "new_grid, shape_positionned = randomly_add_shape_to_world(grid, shapes[1])\n",
    "plot_grid(new_grid, size = (2,2))\n",
    "plot_grid(shapes[2].as_shape_only_grid, size = (2,2))\n"
   ]
  },
  {
   "cell_type": "code",
   "execution_count": 44,
   "id": "46442ccc",
   "metadata": {},
   "outputs": [],
   "source": [
    "import numpy as np\n",
    "from scipy.ndimage import binary_dilation\n",
    "\n",
    "def find_safe_positions(original_grid, object_to_position):\n",
    "    m, n = original_grid.shape\n",
    "    h, w = object_to_position.shape\n",
    "\n",
    "    # 4-connectivity structure: no diagonals\n",
    "    structure = np.array([[0, 1, 0],\n",
    "                          [1, 1, 1],\n",
    "                          [0, 1, 0]])\n",
    "\n",
    "    # Create a binary mask of the existing objects\n",
    "    existing_objects = (original_grid != 0)\n",
    "\n",
    "    # Dilate using 4-connectivity to define the forbidden zone\n",
    "    forbidden_zone = binary_dilation(existing_objects, structure=structure)\n",
    "\n",
    "    safe_positions = []\n",
    "\n",
    "    for i in range(m - h + 1):\n",
    "        for j in range(n - w + 1):\n",
    "            # Extract the region where the object would be placed\n",
    "            region = forbidden_zone[i:i+h, j:j+w]\n",
    "\n",
    "            # Ensure there's no overlap between the object and the forbidden zone\n",
    "            if not np.any(region & (object_to_position != 0)):\n",
    "                safe_positions.append((i, j))\n",
    "\n",
    "    return safe_positions\n",
    "\n",
    "import numpy as np\n",
    "\n",
    "def find_safe_positions_new(original_grid, object_to_position):\n",
    "    m, n = original_grid.shape\n",
    "    h, w = object_to_position.shape\n",
    "\n",
    "    safe_positions = []\n",
    "\n",
    "    # Precompute object non-zero mask\n",
    "    object_mask = (object_to_position != 0)\n",
    "\n",
    "    # Define 8-connected neighborhood (including diagonals)\n",
    "    neighbors = [(-1, -1), (-1, 0), (-1, 1),\n",
    "                 ( 0, -1),          ( 0, 1),\n",
    "                 ( 1, -1), ( 1, 0), ( 1, 1)]\n",
    "\n",
    "    for i in range(m - h + 1):\n",
    "        for j in range(n - w + 1):\n",
    "            valid = True\n",
    "\n",
    "            for di in range(h):\n",
    "                for dj in range(w):\n",
    "                    if not object_mask[di, dj]:\n",
    "                        continue\n",
    "\n",
    "                    # Absolute position on the grid\n",
    "                    gi, gj = i + di, j + dj\n",
    "\n",
    "                    # Check if this position or its 8 neighbors are touching non-zero pixels in the grid\n",
    "                    for ni, nj in neighbors + [(0, 0)]:  # include the pixel itself\n",
    "                        ni_g, nj_g = gi + ni, gj + nj\n",
    "                        if 0 <= ni_g < m and 0 <= nj_g < n:\n",
    "                            if original_grid[ni_g, nj_g] != 0:\n",
    "                                valid = False\n",
    "                                break\n",
    "                    if not valid:\n",
    "                        break\n",
    "                if not valid:\n",
    "                    break\n",
    "\n",
    "            if valid:\n",
    "                safe_positions.append((i, j))\n",
    "\n",
    "    return safe_positions\n",
    "\n",
    "import numpy as np\n",
    "\n",
    "def find_safe_positions_new_grok(original_grid, object_to_position):\n",
    "    m, n = original_grid.shape\n",
    "    h, w = object_to_position.shape\n",
    "    \n",
    "    # Precompute valid search space\n",
    "    safe_positions = []\n",
    "    object_mask = (object_to_position != 0)\n",
    "    \n",
    "    # Create a binary dilation of non-zero grid cells for faster neighbor checking\n",
    "    from scipy.ndimage import binary_dilation\n",
    "    # Create a 3x3 structuring element for 8-connectivity\n",
    "    structure = np.ones((3, 3), dtype=bool)\n",
    "    # Dilate non-zero cells to mark their 8-connected neighborhood\n",
    "    danger_zone = binary_dilation(original_grid != 0, structure=structure)\n",
    "    \n",
    "    # Vectorize the position checking\n",
    "    valid_i = np.arange(m - h + 1)\n",
    "    valid_j = np.arange(n - w + 1)\n",
    "    jj, ii = np.meshgrid(valid_j, valid_i)\n",
    "    \n",
    "    # Flatten for iteration\n",
    "    positions = np.column_stack((ii.ravel(), jj.ravel()))\n",
    "    \n",
    "    for i, j in positions:\n",
    "        # Check if any part of the object would overlap with danger zone\n",
    "        region = danger_zone[i:i+h, j:j+w]\n",
    "        if not np.any(region & object_mask):\n",
    "            safe_positions.append((i, j))\n",
    "    \n",
    "    return safe_positions\n"
   ]
  },
  {
   "cell_type": "code",
   "execution_count": 45,
   "id": "191b3a49",
   "metadata": {},
   "outputs": [
    {
     "name": "stdout",
     "output_type": "stream",
     "text": [
      "Grok function time:  0.013727188110351562\n",
      "New function time:  0.012234926223754883\n",
      "Original function time:  0.005756855010986328\n"
     ]
    }
   ],
   "source": [
    "# Time all functions \n",
    "\n",
    "import time\n",
    "\n",
    "start = time.time()\n",
    "for i in range(100):\n",
    "    ind = find_safe_positions_new_grok(new_grid, shapes[2].as_shape_only_grid)\n",
    "end = time.time()\n",
    "print(\"Grok function time: \", end - start)\n",
    "start = time.time()\n",
    "for i in range(100):\n",
    "    ind = find_safe_positions_new(new_grid, shapes[2].as_shape_only_grid)\n",
    "end = time.time()\n",
    "print(\"New function time: \", end - start)\n",
    "\n",
    "start = time.time()\n",
    "zeroedworld = new_grid.copy()\n",
    "zeroedworld[new_grid == 0] = 0\n",
    "for i in range(100):\n",
    "    ind = find_possible_positions(zeroedworld, shapes[2].as_shape_only_grid)\n",
    "end = time.time()\n",
    "print(\"Original function time: \", end - start)"
   ]
  },
  {
   "cell_type": "code",
   "execution_count": 42,
   "id": "07bc6a55",
   "metadata": {},
   "outputs": [
    {
     "data": {
      "image/png": "[encoded data removed]",
      "text/plain": [
       "<Figure size 200x200 with 1 Axes>"
      ]
     },
     "metadata": {},
     "output_type": "display_data"
    }
   ],
   "source": [
    "indexes = find_safe_positions_new(new_grid, shapes[2].as_shape_only_grid)\n",
    "\n",
    "\n",
    "editing_new_grid = new_grid.copy()\n",
    "for ind in indexes:\n",
    "    editing_new_grid[ind[0], ind[1]] = 1\n",
    "plot_grid(editing_new_grid, size = (2,2))"
   ]
  },
  {
   "cell_type": "code",
   "execution_count": 22,
   "id": "25c78851",
   "metadata": {},
   "outputs": [
    {
     "name": "stdout",
     "output_type": "stream",
     "text": [
      "(3, 5)\n",
      "(5, 7)\n",
      "(5, 7)\n"
     ]
    },
    {
     "data": {
      "image/png": "[encoded data removed]",
      "text/plain": [
       "<Figure size 100x100 with 1 Axes>"
      ]
     },
     "metadata": {},
     "output_type": "display_data"
    },
    {
     "data": {
      "image/png": "[encoded data removed]",
      "text/plain": [
       "<Figure size 100x100 with 1 Axes>"
      ]
     },
     "metadata": {},
     "output_type": "display_data"
    },
    {
     "data": {
      "image/png": "[encoded data removed]",
      "text/plain": [
       "<Figure size 100x100 with 1 Axes>"
      ]
     },
     "metadata": {},
     "output_type": "display_data"
    },
    {
     "data": {
      "image/png": "[encoded data removed]",
      "text/plain": [
       "<Figure size 200x200 with 1 Axes>"
      ]
     },
     "metadata": {},
     "output_type": "display_data"
    }
   ],
   "source": [
    "zeroedworld = new_grid.copy()\n",
    "zeroedworld[new_grid == 0] = 0\n",
    "indexes = find_possible_positions(zeroedworld, shapes[2].grid)\n",
    "for ind in indexes:\n",
    "    new_grid[ind[0], ind[1]] = 1\n",
    "plot_grid(new_grid, size = (2,2))\n"
   ]
  },
  {
   "cell_type": "code",
   "execution_count": 33,
   "id": "4abf4700",
   "metadata": {},
   "outputs": [
    {
     "name": "stdout",
     "output_type": "stream",
     "text": [
      "{'min_n_shapes_per_grid': 3, 'max_n_shapes_per_grid': 4, 'n_examples': 1, 'min_grid_size': 16, 'max_grid_size': 20, 'allowed_combinations': [['crop_top_side']], 'allowed_transformations': None, 'min_transformation_depth': None, 'max_transformation_depth': None, 'shape_compulsory_conditionals': ['is_shape_not_symmetric', 'is_shape_not_evenly_colored', 'is_shape_less_than_11_rows', 'is_shape_less_than_11_cols', 'is_shape_more_than_5_rows', 'is_shape_more_than_5_cols'], 'saving_path': 'before_arc_datasets/generalization/exp_setting_5/experiment_4/test.json'}\n"
     ]
    },
    {
     "data": {
      "image/png": "[encoded data removed]",
      "text/plain": [
       "<Figure size 200x200 with 1 Axes>"
      ]
     },
     "metadata": {},
     "output_type": "display_data"
    },
    {
     "data": {
      "image/png": "[encoded data removed]",
      "text/plain": [
       "<Figure size 200x200 with 1 Axes>"
      ]
     },
     "metadata": {},
     "output_type": "display_data"
    }
   ],
   "source": [
    "import numpy as np\n",
    "config = generalization_configs[-1]\n",
    "print(config)\n",
    "gen = generator(config)\n",
    "shapes = gen.randomly_sample_shapes([1001], 1)\n",
    "plot_grid(shapes[0].as_shape_only_grid, size = (2,2))\n",
    "grid = shapes[0].as_shape_only_grid\n",
    "# pad grid \n",
    "padded_grid = np.pad(grid, ((1, 1), (1, 1)), mode='constant', constant_values=2)\n",
    "plot_grid(padded_grid, size = (2,2))\n"
   ]
  },
  {
   "cell_type": "code",
   "execution_count": 46,
   "id": "c90294e3",
   "metadata": {},
   "outputs": [
    {
     "name": "stdout",
     "output_type": "stream",
     "text": [
      "(13, 13)\n",
      "(13, 13)\n"
     ]
    },
    {
     "name": "stderr",
     "output_type": "stream",
     "text": [
      "/var/folders/vw/9_mx55bd2xv8_v7v_67539680000gn/T/ipykernel_28524/1846188384.py:4: DeprecationWarning: Please import `binary_dilation` from the `scipy.ndimage` namespace; the `scipy.ndimage.morphology` namespace is deprecated and will be removed in SciPy 2.0.0.\n",
      "  dilated_shape = scipy.ndimage.morphology.binary_dilation(shapes[0].as_shape_only_grid,\n"
     ]
    },
    {
     "data": {
      "image/png": "[encoded data removed]",
      "text/plain": [
       "<Figure size 200x200 with 1 Axes>"
      ]
     },
     "metadata": {},
     "output_type": "display_data"
    },
    {
     "data": {
      "image/png": "[encoded data removed]",
      "text/plain": [
       "<Figure size 200x200 with 1 Axes>"
      ]
     },
     "metadata": {},
     "output_type": "display_data"
    }
   ],
   "source": [
    "import scipy\n",
    "plot_grid(shapes[0].as_shape_only_grid, size = (2,2))\n",
    "print(shapes[0].as_shape_only_grid.shape)\n",
    "dilated_shape = scipy.ndimage.morphology.binary_dilation(shapes[0].as_shape_only_grid, \n",
    "                                                         structure = scipy.ndimage.generate_binary_structure(2, 2)).astype(int)\n",
    "plot_grid(dilated_shape, size = (2,2))\n",
    "print(dilated_shape.shape)\n",
    "        "
   ]
  },
  {
   "cell_type": "code",
   "execution_count": 27,
   "id": "58055cca",
   "metadata": {},
   "outputs": [
    {
     "name": "stdout",
     "output_type": "stream",
     "text": [
      "{'translate_up': 1445, 'rot90': 1555, 'mirror_horizontal': 666}\n",
      "{'translate_up': 1445, 'rot90': 1555, 'mirror_horizontal': 666, 'pad_right': 1500, 'fill_holes_different_color': 600, 'change_shape_color': 1600}\n",
      "{'translate_up': 1445, 'rot90': 3111, 'mirror_horizontal': 666, 'pad_right': 1500, 'fill_holes_different_color': 600, 'change_shape_color': 1600, 'pad_top': 555, 'crop_bottom_side': 1555}\n",
      "{'translate_up': 1445, 'rot90': 3111, 'mirror_horizontal': 2221, 'pad_right': 1500, 'fill_holes_different_color': 600, 'change_shape_color': 1600, 'pad_top': 555, 'crop_bottom_side': 1555, 'extend_contours_different_color': 1556, 'translate_down': 555}\n",
      "{'translate_up': 1445, 'rot90': 3111, 'mirror_horizontal': 2221, 'pad_right': 1500, 'fill_holes_different_color': 600, 'change_shape_color': 1600, 'pad_top': 555, 'crop_bottom_side': 1555, 'extend_contours_different_color': 1556, 'translate_down': 555, 'extend_contours_same_color': 1556, 'pad_left': 1555, 'mirror_vertical': 555}\n",
      "{'translate_up': 2951, 'rot90': 4775, 'mirror_horizontal': 3051, 'pad_right': 1500, 'fill_holes_different_color': 600, 'change_shape_color': 1600, 'pad_top': 555, 'crop_bottom_side': 1555, 'extend_contours_different_color': 1556, 'translate_down': 555, 'extend_contours_same_color': 1556, 'pad_left': 1555, 'mirror_vertical': 555}\n"
     ]
    },
    {
     "name": "stderr",
     "output_type": "stream",
     "text": [
      "Generating data split: 1000 examples [00:00, 364848.99 examples/s]\n",
      "Generating data split: 1000 examples [00:00, 257477.23 examples/s]\n"
     ]
    },
    {
     "name": "stdout",
     "output_type": "stream",
     "text": [
      "{'translate_up': 2951, 'rot90': 4775, 'mirror_horizontal': 3051, 'pad_right': 3080, 'fill_holes_different_color': 1310, 'change_shape_color': 3310, 'pad_top': 555, 'crop_bottom_side': 1555, 'extend_contours_different_color': 1556, 'translate_down': 555, 'extend_contours_same_color': 1556, 'pad_left': 1555, 'mirror_vertical': 555}\n"
     ]
    },
    {
     "name": "stderr",
     "output_type": "stream",
     "text": [
      "Generating data split: 1000 examples [00:00, 428646.30 examples/s]\n",
      "Generating data split: 1000 examples [00:00, 280686.88 examples/s]\n"
     ]
    },
    {
     "name": "stdout",
     "output_type": "stream",
     "text": [
      "{'translate_up': 2951, 'rot90': 6447, 'mirror_horizontal': 3051, 'pad_right': 3080, 'fill_holes_different_color': 1310, 'change_shape_color': 3310, 'pad_top': 1219, 'crop_bottom_side': 3219, 'extend_contours_different_color': 1556, 'translate_down': 555, 'extend_contours_same_color': 1556, 'pad_left': 1555, 'mirror_vertical': 555}\n"
     ]
    },
    {
     "name": "stderr",
     "output_type": "stream",
     "text": [
      "Generating data split: 1000 examples [00:00, 366859.44 examples/s]\n",
      "Generating data split: 1001 examples [00:00, 244340.24 examples/s]\n"
     ]
    },
    {
     "name": "stdout",
     "output_type": "stream",
     "text": [
      "{'translate_up': 2951, 'rot90': 6447, 'mirror_horizontal': 3715, 'pad_right': 3080, 'fill_holes_different_color': 1310, 'change_shape_color': 3310, 'pad_top': 1219, 'crop_bottom_side': 3219, 'extend_contours_different_color': 2228, 'translate_down': 1219, 'extend_contours_same_color': 1556, 'pad_left': 1555, 'mirror_vertical': 555, 'crop_top_side': 1001}\n"
     ]
    },
    {
     "name": "stderr",
     "output_type": "stream",
     "text": [
      "Generating data split: 1000 examples [00:00, 365931.25 examples/s]\n",
      "Generating data split: 1000 examples [00:00, 378786.60 examples/s]\n"
     ]
    },
    {
     "name": "stdout",
     "output_type": "stream",
     "text": [
      "{'translate_up': 2951, 'rot90': 6447, 'mirror_horizontal': 3715, 'pad_right': 3080, 'fill_holes_different_color': 1310, 'change_shape_color': 3310, 'pad_top': 1219, 'crop_bottom_side': 3219, 'extend_contours_different_color': 2228, 'translate_down': 1219, 'extend_contours_same_color': 3228, 'pad_left': 3219, 'mirror_vertical': 1219, 'crop_top_side': 1001}\n",
      "{'translate_up': 4647, 'rot90': 7932, 'mirror_horizontal': 5200, 'pad_right': 3080, 'fill_holes_different_color': 1310, 'change_shape_color': 3310, 'pad_top': 1219, 'crop_bottom_side': 3219, 'extend_contours_different_color': 2228, 'translate_down': 1219, 'extend_contours_same_color': 3228, 'pad_left': 3219, 'mirror_vertical': 1219, 'crop_top_side': 1001}\n"
     ]
    },
    {
     "name": "stderr",
     "output_type": "stream",
     "text": [
      "Generating data split: 1000 examples [00:00, 277676.53 examples/s]\n",
      "Generating data split: 1000 examples [00:00, 256156.35 examples/s]\n"
     ]
    },
    {
     "name": "stdout",
     "output_type": "stream",
     "text": [
      "{'translate_up': 4647, 'rot90': 7932, 'mirror_horizontal': 5200, 'pad_right': 4776, 'fill_holes_different_color': 2795, 'change_shape_color': 4795, 'pad_top': 1219, 'crop_bottom_side': 3219, 'extend_contours_different_color': 2228, 'translate_down': 1219, 'extend_contours_same_color': 3228, 'pad_left': 3219, 'mirror_vertical': 1219, 'crop_top_side': 1001}\n"
     ]
    },
    {
     "name": "stderr",
     "output_type": "stream",
     "text": [
      "Generating data split: 1000 examples [00:00, 268178.01 examples/s]\n",
      "Generating data split: 1000 examples [00:00, 235794.02 examples/s]\n"
     ]
    },
    {
     "name": "stdout",
     "output_type": "stream",
     "text": [
      "{'translate_up': 4647, 'rot90': 9628, 'mirror_horizontal': 5200, 'pad_right': 4776, 'fill_holes_different_color': 2795, 'change_shape_color': 4795, 'pad_top': 2704, 'crop_bottom_side': 4704, 'extend_contours_different_color': 2228, 'translate_down': 1219, 'extend_contours_same_color': 3228, 'pad_left': 3219, 'mirror_vertical': 1219, 'crop_top_side': 1001}\n"
     ]
    },
    {
     "name": "stderr",
     "output_type": "stream",
     "text": [
      "Generating data split: 1000 examples [00:00, 286105.32 examples/s]\n",
      "Generating data split: 1000 examples [00:00, 292653.08 examples/s]\n"
     ]
    },
    {
     "name": "stdout",
     "output_type": "stream",
     "text": [
      "{'translate_up': 4647, 'rot90': 9628, 'mirror_horizontal': 6685, 'pad_right': 4776, 'fill_holes_different_color': 2795, 'change_shape_color': 4795, 'pad_top': 2704, 'crop_bottom_side': 4704, 'extend_contours_different_color': 3924, 'translate_down': 2704, 'extend_contours_same_color': 3228, 'pad_left': 3219, 'mirror_vertical': 1219, 'crop_top_side': 1001}\n"
     ]
    },
    {
     "name": "stderr",
     "output_type": "stream",
     "text": [
      "Generating data split: 1000 examples [00:00, 294048.23 examples/s]\n",
      "Generating data split: 1000 examples [00:00, 283456.38 examples/s]\n"
     ]
    },
    {
     "name": "stdout",
     "output_type": "stream",
     "text": [
      "{'translate_up': 4647, 'rot90': 9628, 'mirror_horizontal': 6685, 'pad_right': 4776, 'fill_holes_different_color': 2795, 'change_shape_color': 4795, 'pad_top': 2704, 'crop_bottom_side': 4704, 'extend_contours_different_color': 3924, 'translate_down': 2704, 'extend_contours_same_color': 4924, 'pad_left': 4704, 'mirror_vertical': 2704, 'crop_top_side': 1001}\n"
     ]
    }
   ],
   "source": [
    "from datasets import load_dataset\n",
    "\n",
    "dict_of_transformations = {}\n",
    "\n",
    "def update_dict(file, dict_of_transformations):\n",
    "    for i in range(len(file)):\n",
    "        transformations = file[i]['transformation_suite']\n",
    "        for transform in transformations:\n",
    "            if transform not in dict_of_transformations.keys():\n",
    "                dict_of_transformations[transform] = 1\n",
    "            else:\n",
    "                dict_of_transformations[transform] += 1\n",
    "    return dict_of_transformations\n",
    "\n",
    "\n",
    "for exps in range(1, 4):\n",
    "    for exp in range(1, 6):\n",
    "\n",
    "        # Open data from HF \n",
    "        val_path = f\"compositionality/exp_setting_{exps}/experiment_{exp}/val.parquet\"\n",
    "        test_path = f\"compositionality/exp_setting_{exps}/experiment_{exp}/test_ood.parquet\"\n",
    "        val = load_dataset(\"taratataw/before-arc\", data_files={\"data\": val_path})\n",
    "        test = load_dataset(\"taratataw/before-arc\", data_files={\"data\": test_path})\n",
    "        \n",
    "        dict_of_transformations = update_dict(val['data'], dict_of_transformations)\n",
    "        dict_of_transformations = update_dict(test['data'], dict_of_transformations)\n",
    "\n",
    "        print(dict_of_transformations)\n",
    "        \n"
   ]
  },
  {
   "cell_type": "code",
   "execution_count": 20,
   "id": "c5b2e7fd",
   "metadata": {},
   "outputs": [
    {
     "data": {
      "text/plain": [
       "['translate_up']"
      ]
     },
     "execution_count": 20,
     "metadata": {},
     "output_type": "execute_result"
    }
   ],
   "source": [
    "val[\"data\"][0]['transformation_suite']"
   ]
  },
  {
   "cell_type": "code",
   "execution_count": null,
   "id": "6ac7e163",
   "metadata": {},
   "outputs": [
    {
     "name": "stdout",
     "output_type": "stream",
     "text": [
      "Collecting datasets\n",
      "  Downloading datasets-3.6.0-py3-none-any.whl.metadata (19 kB)\n",
      "Requirement already satisfied: filelock in /opt/anaconda3/envs/daily/lib/python3.11/site-packages (from datasets) (3.17.0)\n",
      "Requirement already satisfied: numpy>=1.17 in /opt/anaconda3/envs/daily/lib/python3.11/site-packages (from datasets) (2.2.1)\n",
      "Collecting pyarrow>=15.0.0 (from datasets)\n",
      "  Downloading pyarrow-20.0.0-cp311-cp311-macosx_12_0_arm64.whl.metadata (3.3 kB)\n",
      "Collecting dill<0.3.9,>=0.3.0 (from datasets)\n",
      "  Downloading dill-0.3.8-py3-none-any.whl.metadata (10 kB)\n",
      "Requirement already satisfied: pandas in /opt/anaconda3/envs/daily/lib/python3.11/site-packages (from datasets) (2.2.3)\n",
      "Requirement already satisfied: requests>=2.32.2 in /opt/anaconda3/envs/daily/lib/python3.11/site-packages (from datasets) (2.32.3)\n",
      "Requirement already satisfied: tqdm>=4.66.3 in /opt/anaconda3/envs/daily/lib/python3.11/site-packages (from datasets) (4.67.1)\n",
      "Collecting xxhash (from datasets)\n",
      "  Downloading xxhash-3.5.0-cp311-cp311-macosx_11_0_arm64.whl.metadata (12 kB)\n",
      "Collecting multiprocess<0.70.17 (from datasets)\n",
      "  Downloading multiprocess-0.70.16-py311-none-any.whl.metadata (7.2 kB)\n",
      "Requirement already satisfied: fsspec<=2025.3.0,>=2023.1.0 in /opt/anaconda3/envs/daily/lib/python3.11/site-packages (from fsspec[http]<=2025.3.0,>=2023.1.0->datasets) (2025.2.0)\n",
      "Requirement already satisfied: huggingface-hub>=0.24.0 in /opt/anaconda3/envs/daily/lib/python3.11/site-packages (from datasets) (0.30.2)\n",
      "Requirement already satisfied: packaging in /opt/anaconda3/envs/daily/lib/python3.11/site-packages (from datasets) (24.2)\n",
      "Requirement already satisfied: pyyaml>=5.1 in /opt/anaconda3/envs/daily/lib/python3.11/site-packages (from datasets) (6.0.2)\n",
      "Requirement already satisfied: aiohttp!=4.0.0a0,!=4.0.0a1 in /opt/anaconda3/envs/daily/lib/python3.11/site-packages (from fsspec[http]<=2025.3.0,>=2023.1.0->datasets) (3.11.18)\n",
      "Requirement already satisfied: typing-extensions>=3.7.4.3 in /opt/anaconda3/envs/daily/lib/python3.11/site-packages (from huggingface-hub>=0.24.0->datasets) (4.12.2)\n",
      "Requirement already satisfied: charset_normalizer<4,>=2 in /opt/anaconda3/envs/daily/lib/python3.11/site-packages (from requests>=2.32.2->datasets) (3.4.1)\n",
      "Requirement already satisfied: idna<4,>=2.5 in /opt/anaconda3/envs/daily/lib/python3.11/site-packages (from requests>=2.32.2->datasets) (3.10)\n",
      "Requirement already satisfied: urllib3<3,>=1.21.1 in /opt/anaconda3/envs/daily/lib/python3.11/site-packages (from requests>=2.32.2->datasets) (2.3.0)\n",
      "Requirement already satisfied: certifi>=2017.4.17 in /opt/anaconda3/envs/daily/lib/python3.11/site-packages (from requests>=2.32.2->datasets) (2025.1.31)\n",
      "Requirement already satisfied: python-dateutil>=2.8.2 in /opt/anaconda3/envs/daily/lib/python3.11/site-packages (from pandas->datasets) (2.9.0.post0)\n",
      "Requirement already satisfied: pytz>=2020.1 in /opt/anaconda3/envs/daily/lib/python3.11/site-packages (from pandas->datasets) (2024.2)\n",
      "Requirement already satisfied: tzdata>=2022.7 in /opt/anaconda3/envs/daily/lib/python3.11/site-packages (from pandas->datasets) (2024.2)\n",
      "Requirement already satisfied: aiohappyeyeballs>=2.3.0 in /opt/anaconda3/envs/daily/lib/python3.11/site-packages (from aiohttp!=4.0.0a0,!=4.0.0a1->fsspec[http]<=2025.3.0,>=2023.1.0->datasets) (2.6.1)\n",
      "Requirement already satisfied: aiosignal>=1.1.2 in /opt/anaconda3/envs/daily/lib/python3.11/site-packages (from aiohttp!=4.0.0a0,!=4.0.0a1->fsspec[http]<=2025.3.0,>=2023.1.0->datasets) (1.3.2)\n",
      "Requirement already satisfied: attrs>=17.3.0 in /opt/anaconda3/envs/daily/lib/python3.11/site-packages (from aiohttp!=4.0.0a0,!=4.0.0a1->fsspec[http]<=2025.3.0,>=2023.1.0->datasets) (25.1.0)\n",
      "Requirement already satisfied: frozenlist>=1.1.1 in /opt/anaconda3/envs/daily/lib/python3.11/site-packages (from aiohttp!=4.0.0a0,!=4.0.0a1->fsspec[http]<=2025.3.0,>=2023.1.0->datasets) (1.6.0)\n",
      "Requirement already satisfied: multidict<7.0,>=4.5 in /opt/anaconda3/envs/daily/lib/python3.11/site-packages (from aiohttp!=4.0.0a0,!=4.0.0a1->fsspec[http]<=2025.3.0,>=2023.1.0->datasets) (6.4.3)\n",
      "Requirement already satisfied: propcache>=0.2.0 in /opt/anaconda3/envs/daily/lib/python3.11/site-packages (from aiohttp!=4.0.0a0,!=4.0.0a1->fsspec[http]<=2025.3.0,>=2023.1.0->datasets) (0.3.1)\n",
      "Requirement already satisfied: yarl<2.0,>=1.17.0 in /opt/anaconda3/envs/daily/lib/python3.11/site-packages (from aiohttp!=4.0.0a0,!=4.0.0a1->fsspec[http]<=2025.3.0,>=2023.1.0->datasets) (1.20.0)\n",
      "Requirement already satisfied: six>=1.5 in /opt/anaconda3/envs/daily/lib/python3.11/site-packages (from python-dateutil>=2.8.2->pandas->datasets) (1.17.0)\n",
      "Downloading datasets-3.6.0-py3-none-any.whl (491 kB)\n",
      "Downloading dill-0.3.8-py3-none-any.whl (116 kB)\n",
      "Downloading multiprocess-0.70.16-py311-none-any.whl (143 kB)\n",
      "Downloading pyarrow-20.0.0-cp311-cp311-macosx_12_0_arm64.whl (30.9 MB)\n",
      "\u001b[2K   \u001b[90m━━━━━━━━━━━━━━━━━━━━━━━━━━━━━━━━━━━━━━━━\u001b[0m \u001b[32m30.9/30.9 MB\u001b[0m \u001b[31m1.4 MB/s\u001b[0m eta \u001b[36m0:00:00\u001b[0m00:01\u001b[0m00:01\u001b[0m\n",
      "\u001b[?25hDownloading xxhash-3.5.0-cp311-cp311-macosx_11_0_arm64.whl (30 kB)\n",
      "Installing collected packages: xxhash, pyarrow, dill, multiprocess, datasets\n",
      "Successfully installed datasets-3.6.0 dill-0.3.8 multiprocess-0.70.16 pyarrow-20.0.0 xxhash-3.5.0\n"
     ]
    }
   ],
   "source": []
  }
 ],
 "metadata": {
  "kernelspec": {
   "display_name": "daily",
   "language": "python",
   "name": "python3"
  },
  "language_info": {
   "codemirror_mode": {
    "name": "ipython",
    "version": 3
   },
   "file_extension": ".py",
   "mimetype": "text/x-python",
   "name": "python",
   "nbconvert_exporter": "python",
   "pygments_lexer": "ipython3",
   "version": "3.11.8"
  }
 },
 "nbformat": 4,
 "nbformat_minor": 5
}
