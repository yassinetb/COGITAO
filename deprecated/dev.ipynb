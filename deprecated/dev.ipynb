{
 "cells": [
  {
   "cell_type": "code",
   "execution_count": 3,
   "id": "1c9bf381",
   "metadata": {},
   "outputs": [],
   "source": [
    "%load_ext autoreload\n",
    "%autoreload 2\n",
    "import generator\n",
    "import time\n",
    "import sys \n",
    "from arcworld.general_utils import plot_task, plot_grid, randomly_add_shape_to_world\n",
    "import numpy as np\n",
    "from arcworld.shapes.base import Shape"
   ]
  },
  {
   "cell_type": "code",
   "execution_count": 11,
   "id": "683d9a60",
   "metadata": {},
   "outputs": [
    {
     "data": {
      "text/plain": [
       "22559"
      ]
     },
     "execution_count": 11,
     "metadata": {},
     "output_type": "execute_result"
    }
   ],
   "source": [
    "len(gen.possible_shapes)"
   ]
  },
  {
   "cell_type": "code",
   "execution_count": 10,
   "id": "3bfa97c9",
   "metadata": {},
   "outputs": [
    {
     "data": {
      "image/png": "[encoded data removed]",
      "text/plain": [
       "<Figure size 800x800 with 2 Axes>"
      ]
     },
     "metadata": {},
     "output_type": "display_data"
    }
   ],
   "source": [
    "# At each run, the generator will create a new task with a different combination of transformations, as described in the config file.\n",
    "\n",
    "config = {\n",
    "    \"min_n_shapes_per_grid\": 2,\n",
    "    \"max_n_shapes_per_grid\": 2,\n",
    "    \"n_examples\": 1,\n",
    "    \"min_grid_size\": 15,\n",
    "    \"allowed_combinations\": [[\"extend_contours_same_color\"]],\n",
    "    \"max_grid_size\": 15,\n",
    "    \"allowed_transformations\": None,\n",
    "    \"min_transformation_depth\": None,\n",
    "    \"max_transformation_depth\": None,\n",
    "    \"shape_compulsory_conditionals\": [\"is_shape_more_than_1_cell\"],\n",
    "}\n",
    "\n",
    "gen = generator.generator(config, debug_mode=False) # Initialize the generator with the config\n",
    "task = gen.generate_single_task() # Generate a single task\n",
    "plot_task(task, size = (8, 8))"
   ]
  },
  {
   "cell_type": "code",
   "execution_count": 3,
   "id": "a8731bda",
   "metadata": {},
   "outputs": [
    {
     "name": "stdout",
     "output_type": "stream",
     "text": [
      "1\n",
      "[np.int64(1), np.int64(1), np.int64(1)]\n"
     ]
    }
   ],
   "source": [
    "from arcworld.shapes.base import Shape\n",
    "x = np.random.randint(0, 9, (10, 10))\n",
    "x = np.array([[1, 1, 1, 0, 0, 0]])\n",
    "s = Shape(x)\n",
    "print(s.most_frequent_color)\n",
    "print(s.colors)"
   ]
  },
  {
   "cell_type": "code",
   "execution_count": 25,
   "id": "56e962f3",
   "metadata": {},
   "outputs": [
    {
     "name": "stdout",
     "output_type": "stream",
     "text": [
      "8\n"
     ]
    },
    {
     "data": {
      "image/png": "[encoded data removed]",
      "text/plain": [
       "<Figure size 300x300 with 1 Axes>"
      ]
     },
     "metadata": {},
     "output_type": "display_data"
    }
   ],
   "source": [
    "## Create Hollow Shape \n",
    "\n",
    "x = np.array([[1, 1, 1, 1, 1, 1],\n",
    "              [1, 0, 0, 0, 0, 1],\n",
    "              [1, 0, 0, 0, 0, 1],\n",
    "              [1, 0, 0, 0, 0, 1],\n",
    "              [1, 1, 1, 1, 1, 1]])\n",
    "s = Shape(x*8)\n",
    "print(s.most_frequent_color)\n",
    "plot_grid(s.as_shape_only_grid, size = (1,1))"
   ]
  },
  {
   "cell_type": "code",
   "execution_count": null,
   "id": "232e80cc",
   "metadata": {},
   "outputs": [
    {
     "data": {
      "image/png": "[encoded data removed]",
      "text/plain": [
       "<Figure size 300x300 with 1 Axes>"
      ]
     },
     "metadata": {},
     "output_type": "display_data"
    }
   ],
   "source": [
    "from arcworld.conditionals.single_shape_conditionals import is_shape_hollow\n",
    "import scipy\n",
    "def fill_holes_different_color(shape): ## Fills hole with the first color\n",
    "    if is_shape_hollow(shape):\n",
    "        new_color = (shape.most_frequent_color % 9) + 1\n",
    "        filled_shape = Shape(scipy.ndimage.binary_fill_holes(shape.grid).astype(int)*shape.colors[0])\n",
    "        filling_diff = ((filled_shape.as_shape_only_grid - shape.as_shape_only_grid) != 0) * new_color\n",
    "        return Shape(filling_diff + shape.as_shape_only_grid) \n",
    "    else:\n",
    "        return shape\n",
    "    \n",
    "\n",
    "    \n",
    "filled = fill_holes_different_color(s)\n",
    "plot_grid(filled.as_shape_only_grid, size = (1,1))"
   ]
  },
  {
   "cell_type": "code",
   "execution_count": null,
   "id": "f79f1416",
   "metadata": {},
   "outputs": [
    {
     "data": {
      "image/png": "[encoded data removed]",
      "text/plain": [
       "<Figure size 300x300 with 1 Axes>"
      ]
     },
     "metadata": {},
     "output_type": "display_data"
    },
    {
     "data": {
      "image/png": "[encoded data removed]",
      "text/plain": [
       "<Figure size 300x300 with 1 Axes>"
      ]
     },
     "metadata": {},
     "output_type": "display_data"
    }
   ],
   "source": [
    "# Create Multi colored shape \n",
    "\n",
    "constraints_crop_contours = {\"incompatible_shapes\": [\"is_shape_less_than_4_rows\",\n",
    "                                                 \"is_shape_less_than_4_cols\"], \n",
    "                           \"incompatible_transforms\": [],\n",
    "                           \"application_order\": [],\n",
    "                           \"can_be_applied_multiple_times\": True,\n",
    "                           }  \n",
    "\n",
    "def crop_contours(shape):\n",
    "    shape_original_pos = shape.current_position\n",
    "    shape_grid = shape.as_shape_only_grid\n",
    "    shape_grid = shape_grid[1:-1, 1:-1]\n",
    "    new_shape = Shape(shape_grid)\n",
    "    new_shape.move_to_position((shape_original_pos[0]+1, shape_original_pos[1]+1))\n",
    "    return new_shape\n",
    "\n",
    "x = np.random.randint(0, 9, (10, 10))\n",
    "s = Shape(x)\n",
    "plot_grid(s.as_shape_only_grid, size = (1,1))\n",
    "changed = crop_contours(s)\n",
    "plot_grid(changed.as_shape_only_grid, size = (1,1))"
   ]
  },
  {
   "cell_type": "code",
   "execution_count": 54,
   "id": "d6d89d1d",
   "metadata": {},
   "outputs": [],
   "source": [
    "constraints_double_right = {\"incompatible_shapes\": [], \n",
    "                           \"incompatible_transforms\": ['translate_down'],\n",
    "                           \"application_order\": [],\n",
    "                           \"can_be_applied_multiple_times\": True,\n",
    "                           }  \n",
    "\n",
    "def double_right(shape):\n",
    "    \"\"\"Doubles the shape to the right\"\"\"\n",
    "    new_shape = np.zeros((shape.n_rows, shape.n_cols*2))\n",
    "    new_shape[:, :shape.n_cols] = shape.as_shape_only_grid\n",
    "    new_shape[:, shape.n_cols:] = shape.as_shape_only_grid\n",
    "    return Shape(new_shape)\n",
    "\n",
    "constraints_double_down = {\"incompatible_shapes\": [], \n",
    "                           \"incompatible_transforms\": ['translate_down'],\n",
    "                           \"application_order\": [],\n",
    "                           \"can_be_applied_multiple_times\": True,\n",
    "                           }  \n",
    "\n",
    "def double_down(shape):\n",
    "    \"\"\"Doubles the shape down\"\"\"\n",
    "    new_shape = np.zeros((shape.n_rows*2, shape.n_cols))\n",
    "    new_shape[:shape.n_rows, :] = shape.as_shape_only_grid\n",
    "    new_shape[shape.n_rows:, :] = shape.as_shape_only_grid\n",
    "    return Shape(new_shape)\n",
    "\n",
    "constraints_double_up = {\"incompatible_shapes\": [], \n",
    "                           \"incompatible_transforms\": ['translate_down'],\n",
    "                           \"application_order\": [],\n",
    "                           \"can_be_applied_multiple_times\": True,\n",
    "                           }  \n",
    "\n",
    "def double_up(shape):\n",
    "    \"\"\"Doubles the shape up\"\"\"\n",
    "    new_shape = np.zeros((shape.n_rows*2, shape.n_cols))\n",
    "    new_shape[shape.n_rows:, :] = shape.as_shape_only_grid\n",
    "    new_shape[:shape.n_rows, :] = shape.as_shape_only_grid\n",
    "    return Shape(new_shape)\n",
    "\n",
    "constraints_double_left = {\"incompatible_shapes\": [], \n",
    "                           \"incompatible_transforms\": ['translate_down'],\n",
    "                           \"application_order\": [],\n",
    "                           \"can_be_applied_multiple_times\": True,\n",
    "                           }  \n",
    "\n",
    "def double_left(shape):\n",
    "    \"\"\"Doubles the shape to the left\"\"\"\n",
    "    new_shape = np.zeros((shape.n_rows, shape.n_cols*2))\n",
    "    new_shape[:, :shape.n_cols] = shape.as_shape_only_grid\n",
    "    new_shape[:, shape.n_cols:] = shape.as_shape_only_grid\n",
    "    return Shape(new_shape)\n",
    "\n",
    "\n",
    "constraints_double_shape = {\"incompatible_shapes\": [], \n",
    "                           \"incompatible_transforms\": ['translate_down'],\n",
    "                           \"application_order\": [],\n",
    "                           \"can_be_applied_multiple_times\": True,\n",
    "                           }  \n",
    "\n",
    "def double_shape(shape):\n",
    "    \"\"\"Doubles the shape to the right\"\"\"\n",
    "    new_shape = np.zeros((shape.n_rows*2, shape.n_cols*2))\n",
    "    new_shape[:shape.n_rows, :shape.n_cols] = shape.as_shape_only_grid\n",
    "    new_shape[shape.n_rows:, :shape.n_cols] = shape.as_shape_only_grid\n",
    "    new_shape[:shape.n_rows, shape.n_cols:] = shape.as_shape_only_grid\n",
    "    new_shape[shape.n_rows:, shape.n_cols:] = shape.as_shape_only_grid\n",
    "    return Shape(new_shape)\n",
    "\n",
    "\n"
   ]
  },
  {
   "cell_type": "code",
   "execution_count": 60,
   "id": "f3098d8a",
   "metadata": {},
   "outputs": [
    {
     "data": {
      "image/png": "[encoded data removed]",
      "text/plain": [
       "<Figure size 300x300 with 1 Axes>"
      ]
     },
     "metadata": {},
     "output_type": "display_data"
    },
    {
     "data": {
      "image/png": "[encoded data removed]",
      "text/plain": [
       "<Figure size 300x300 with 1 Axes>"
      ]
     },
     "metadata": {},
     "output_type": "display_data"
    }
   ],
   "source": [
    "x = np.random.randint(0, 2, (4, 4))\n",
    "s = Shape(x)\n",
    "plot_grid(s.as_shape_only_grid, size = (1,1))\n",
    "s = double_down(s)\n",
    "plot_grid(s.as_shape_only_grid, size = (1,1))"
   ]
  },
  {
   "cell_type": "code",
   "execution_count": 10,
   "id": "6aee6cdf",
   "metadata": {},
   "outputs": [],
   "source": [
    "from arcworld.general_utils import generate_key\n",
    "import os\n",
    "import numpy as np\n",
    "from tqdm import tqdm\n",
    "import copy\n",
    "import json\n",
    "from utils.db_utils import access_db, close_db, store_task_in_db, hash_task\n",
    "from generator import generator\n",
    "from study_configs.compositionality import compositionality_configs\n",
    "from study_configs.generalization import generalization_configs"
   ]
  },
  {
   "cell_type": "code",
   "execution_count": 14,
   "id": "c5d71545",
   "metadata": {},
   "outputs": [
    {
     "name": "stdout",
     "output_type": "stream",
     "text": [
      "Number of tasks in the database: 7500\n",
      "   i   task_key                                          task_hash  \\\n",
      "0  1  7ggg5z0b1  162a2f8bb80f6748cd85b1c7d40519b70fa5049015bd41...   \n",
      "1  2  ij2g12zyj  bb00fcdabdee29a5f833e5d8ea54138c2ca41eb8805e1f...   \n",
      "2  3  3x6on5lq9  d2ff5191a692d5e0ada19703ff394dd34128c31d09bc04...   \n",
      "3  4  ltjuwtwx4  566fb8c6d28326d21171f63d0ed187c601d39132458c92...   \n",
      "4  5  wxrq5598u  4ba7c27d82128e14d86c5c033dce36fd1ce81111541920...   \n",
      "\n",
      "                    transformations  \n",
      "0  ['translate_up', 'translate_up']  \n",
      "1  ['translate_up', 'translate_up']  \n",
      "2  ['translate_up', 'translate_up']  \n",
      "3  ['translate_up', 'translate_up']  \n",
      "4  ['translate_up', 'translate_up']  \n",
      "Index(['i', 'task_key', 'task_hash', 'transformations'], dtype='object')\n",
      "(7500, 4)\n"
     ]
    }
   ],
   "source": [
    "cursor, conn = access_db(\"before_arc_datasets_compositionality_exp_setting_3_experiment_1.db\", \n",
    "                         \"before_arc_datasets/compositionality/exp_setting_3/experiment_1\")\n",
    "\n",
    "# check length of the table\n",
    "cursor.execute(\"SELECT COUNT(*) FROM tasks\")\n",
    "n_tasks = cursor.fetchone()[0]\n",
    "print(f\"Number of tasks in the database: {n_tasks}\")\n",
    "\n",
    "# convert the table to a pandas dataframe and print it\n",
    "\n",
    "import pandas as pd\n",
    "df = pd.read_sql_query(\"SELECT * FROM tasks\", conn)\n",
    "print(df.head())\n",
    "print(df.columns)\n",
    "print(df.shape)"
   ]
  },
  {
   "cell_type": "code",
   "execution_count": 15,
   "id": "6813a26f",
   "metadata": {},
   "outputs": [
    {
     "name": "stdout",
     "output_type": "stream",
     "text": [
      "Number of duplicates in the task_hash column: 0\n"
     ]
    }
   ],
   "source": [
    "# check for duplicates in the task_hash column\n",
    "duplicates = df[df.duplicated(subset=['task_hash'])]\n",
    "print(f\"Number of duplicates in the task_hash column: {len(duplicates)}\")"
   ]
  },
  {
   "cell_type": "code",
   "execution_count": 13,
   "id": "072dd6c5",
   "metadata": {},
   "outputs": [
    {
     "data": {
      "text/plain": [
       "333"
      ]
     },
     "execution_count": 13,
     "metadata": {},
     "output_type": "execute_result"
    }
   ],
   "source": [
    "int(1000/3)"
   ]
  }
 ],
 "metadata": {
  "kernelspec": {
   "display_name": "daily",
   "language": "python",
   "name": "python3"
  },
  "language_info": {
   "codemirror_mode": {
    "name": "ipython",
    "version": 3
   },
   "file_extension": ".py",
   "mimetype": "text/x-python",
   "name": "python",
   "nbconvert_exporter": "python",
   "pygments_lexer": "ipython3",
   "version": "3.11.8"
  }
 },
 "nbformat": 4,
 "nbformat_minor": 5
}
