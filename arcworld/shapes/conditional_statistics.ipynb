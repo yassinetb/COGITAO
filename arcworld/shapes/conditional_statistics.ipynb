{
 "cells": [
  {
   "cell_type": "code",
   "execution_count": 2,
   "id": "326e8b8a",
   "metadata": {
    "ExecuteTime": {
     "end_time": "2023-04-17T13:06:21.311647Z",
     "start_time": "2023-04-17T13:06:19.832743Z"
    }
   },
   "outputs": [
    {
     "name": "stdout",
     "output_type": "stream",
     "text": [
      "usage: jupyter [-h] [--version] [--config-dir] [--data-dir] [--runtime-dir]\n",
      "               [--paths] [--json] [--debug]\n",
      "               [subcommand]\n",
      "\n",
      "Jupyter: Interactive Computing\n",
      "\n",
      "positional arguments:\n",
      "  subcommand     the subcommand to launch\n",
      "\n",
      "optional arguments:\n",
      "  -h, --help     show this help message and exit\n",
      "  --version      show the versions of core jupyter packages and exit\n",
      "  --config-dir   show Jupyter config dir\n",
      "  --data-dir     show Jupyter data dir\n",
      "  --runtime-dir  show Jupyter runtime dir\n",
      "  --paths        show all Jupyter paths. Add --json for machine-readable\n",
      "                 format.\n",
      "  --json         output paths as machine-readable json\n",
      "  --debug        output debug information about paths\n",
      "\n",
      "Available subcommands: kernel kernelspec migrate run troubleshoot\n",
      "\n",
      "Jupyter command `jupyter-nbextension` not found.\n"
     ]
    }
   ],
   "source": [
    "import numpy as np\n",
    "import os\n",
    "import sys\n",
    "sys.path.append('../../')\n",
    "import matplotlib.pyplot as plt\n",
    "from arcworld.hdf5_utils import load_conditions, load_shape\n",
    "!jupyter nbextension enable --py widgetsnbextension"
   ]
  },
  {
   "cell_type": "code",
   "execution_count": 4,
   "id": "5c7d7868",
   "metadata": {
    "ExecuteTime": {
     "end_time": "2023-04-17T13:06:25.052065Z",
     "start_time": "2023-04-17T13:06:24.277200Z"
    }
   },
   "outputs": [],
   "source": [
    "# shape_conditionals_table, names = load_conditions()\n",
    "# condition_sat = np.sum(shape_conditionals_table, axis = 0)\n",
    "# plt.figure(figsize = (10,20))\n",
    "# plt.barh(names, condition_sat)\n",
    "# plt.xlabel('n objects')\n",
    "# plt.show()"
   ]
  },
  {
   "cell_type": "code",
   "execution_count": null,
   "id": "69cbe52d",
   "metadata": {},
   "outputs": [],
   "source": []
  }
 ],
 "metadata": {
  "kernelspec": {
   "display_name": "Python 3 (ipykernel)",
   "language": "python",
   "name": "python3"
  },
  "language_info": {
   "codemirror_mode": {
    "name": "ipython",
    "version": 3
   },
   "file_extension": ".py",
   "mimetype": "text/x-python",
   "name": "python",
   "nbconvert_exporter": "python",
   "pygments_lexer": "ipython3",
   "version": "3.9.19"
  },
  "vscode": {
   "interpreter": {
    "hash": "08a354cc8a8c419b3ace3d52aecd4595e6a4226d6e1a24d97a75cf0282a2b999"
   }
  }
 },
 "nbformat": 4,
 "nbformat_minor": 5
}
